{
  "nbformat": 4,
  "nbformat_minor": 0,
  "metadata": {
    "colab": {
      "provenance": [],
      "authorship_tag": "ABX9TyO8EDJrf6axcmrjQX18fRqr",
      "include_colab_link": true
    },
    "kernelspec": {
      "name": "python3",
      "display_name": "Python 3"
    },
    "language_info": {
      "name": "python"
    }
  },
  "cells": [
    {
      "cell_type": "markdown",
      "metadata": {
        "id": "view-in-github",
        "colab_type": "text"
      },
      "source": [
        "<a href=\"https://colab.research.google.com/github/Madhusudhan1206/AI-Driven-Cybersecurity-Threat-Prediction-Platform/blob/main/Python_tasks.ipynb\" target=\"_parent\"><img src=\"https://colab.research.google.com/assets/colab-badge.svg\" alt=\"Open In Colab\"/></a>"
      ]
    },
    {
      "cell_type": "markdown",
      "source": [
        "Prompt: Use the random library to simulate rolling two dice and print the total with a creative message about your luck."
      ],
      "metadata": {
        "id": "soacQCAGkRMD"
      }
    },
    {
      "cell_type": "code",
      "metadata": {
        "colab": {
          "base_uri": "https://localhost:8080/"
        },
        "id": "04d2d586",
        "outputId": "29bcc8b4-3006-4db1-e818-1114350a339b"
      },
      "source": [
        "import random\n",
        "\n",
        "die1 = random.randint(1, 6)\n",
        "die2 = random.randint(1, 6)\n",
        "total = die1 + die2\n",
        "\n",
        "messages = [\n",
        "    f\"You rolled a {die1} and a {die2}. Your total is {total}. Your luck is shining bright!\",\n",
        "    f\"With a {die1} and a {die2}, you got a total of {total}. Looks like today's your day!\",\n",
        "    f\"Rolling a {die1} and a {die2} gives you {total}. Feeling lucky?\",\n",
        "    f\"Your dice landed on {die1} and {die2}, making a grand total of {total}. The odds are in your favor!\",\n",
        "    f\"A {die1} and a {die2} for a total of {total}!  May your rolls always be this good!\"\n",
        "]\n",
        "\n",
        "print(random.choice(messages))"
      ],
      "execution_count": 1,
      "outputs": [
        {
          "output_type": "stream",
          "name": "stdout",
          "text": [
            "Your dice landed on 4 and 5, making a grand total of 9. The odds are in your favor!\n"
          ]
        }
      ]
    },
    {
      "cell_type": "markdown",
      "source": [
        "Prompt: Use datetime library to print the current date in a friendly format and calculate how many days are left until a special event (like New Year)."
      ],
      "metadata": {
        "id": "uW08LS9Mkblt"
      }
    },
    {
      "cell_type": "code",
      "metadata": {
        "colab": {
          "base_uri": "https://localhost:8080/"
        },
        "id": "2f703005",
        "outputId": "52640f68-3c39-47c2-b1d6-0ec7142f1e5d"
      },
      "source": [
        "import datetime\n",
        "\n",
        "# Get the current date\n",
        "current_date = datetime.date.today()\n",
        "\n",
        "# Define the date of the special event (e.g., New Year's Day)\n",
        "# You can change this to any date you like\n",
        "special_event_date = datetime.date(current_date.year + 1, 1, 1) # Assuming New Year is in the next year\n",
        "\n",
        "# If New Year's Day has already passed this year, calculate for next year\n",
        "if current_date > special_event_date:\n",
        "    special_event_date = datetime.date(current_date.year + 1, 1, 1)\n",
        "\n",
        "# Calculate the difference in days\n",
        "days_left = (special_event_date - current_date).days\n",
        "\n",
        "# Print the current date in a friendly format\n",
        "print(f\"Today's date is: {current_date.strftime('%B %d, %Y')}\")\n",
        "\n",
        "# Print the number of days left until the special event\n",
        "print(f\"There are {days_left} days left until New Year's Day.\")"
      ],
      "execution_count": 2,
      "outputs": [
        {
          "output_type": "stream",
          "name": "stdout",
          "text": [
            "Today's date is: October 31, 2025\n",
            "There are 62 days left until New Year's Day.\n"
          ]
        }
      ]
    },
    {
      "cell_type": "markdown",
      "source": [
        "Prompt: Use string and random libraries to create a simple password generator that combines letters and digits from defined lists or tuples."
      ],
      "metadata": {
        "id": "6LfrR-fVkotm"
      }
    },
    {
      "cell_type": "code",
      "metadata": {
        "colab": {
          "base_uri": "https://localhost:8080/"
        },
        "id": "4cc4f9b7",
        "outputId": "b81adc62-72fa-4c5c-bd85-0673b707c19d"
      },
      "source": [
        "import random\n",
        "import string\n",
        "\n",
        "def generate_password(length):\n",
        "  \"\"\"Generates a random password of a given length.\"\"\"\n",
        "  characters = string.ascii_letters + string.digits\n",
        "  password = ''.join(random.choice(characters) for i in range(length))\n",
        "  return password\n",
        "\n",
        "# Define the desired password length\n",
        "password_length = 12\n",
        "\n",
        "# Generate and print the password\n",
        "password = generate_password(password_length)\n",
        "print(f\"Generated password: {password}\")"
      ],
      "execution_count": 3,
      "outputs": [
        {
          "output_type": "stream",
          "name": "stdout",
          "text": [
            "Generated password: ou0LoY5Judqd\n"
          ]
        }
      ]
    },
    {
      "cell_type": "markdown",
      "source": [
        "Prompt: Use matplotlib to plot a basic bar chart of your weekly study hours stored in a list, adding labels and colors creatively."
      ],
      "metadata": {
        "id": "JoaPBuBnk6yB"
      }
    },
    {
      "cell_type": "code",
      "metadata": {
        "colab": {
          "base_uri": "https://localhost:8080/",
          "height": 507
        },
        "id": "298e0186",
        "outputId": "244c1dbb-86c0-4c94-f45e-0afc2dfce2de"
      },
      "source": [
        "import matplotlib.pyplot as plt\n",
        "\n",
        "# Weekly study hours (example data)\n",
        "study_hours = [2, 3, 5, 4, 6, 3, 7]\n",
        "days = ['Mon', 'Tue', 'Wed', 'Thu', 'Fri', 'Sat', 'Sun']\n",
        "\n",
        "# Create the bar chart\n",
        "plt.figure(figsize=(8, 5)) # Adjust figure size\n",
        "bars = plt.bar(days, study_hours, color=['skyblue', 'lightcoral', 'lightgreen', 'gold', 'orchid', 'sandybrown', 'cornflowerblue'])\n",
        "\n",
        "# Add labels and title\n",
        "plt.xlabel(\"Day of the Week\", fontsize=12)\n",
        "plt.ylabel(\"Study Hours\", fontsize=12)\n",
        "plt.title(\"Weekly Study Hours\", fontsize=14, fontweight='bold')\n",
        "\n",
        "# Add the values on top of the bars\n",
        "for bar in bars:\n",
        "    yval = bar.get_height()\n",
        "    plt.text(bar.get_x() + bar.get_width()/2, yval + 0.2, yval, ha='center', va='bottom')\n",
        "\n",
        "\n",
        "# Improve layout and display the plot\n",
        "plt.tight_layout()\n",
        "plt.show()"
      ],
      "execution_count": 4,
      "outputs": [
        {
          "output_type": "display_data",
          "data": {
            "text/plain": [
              "<Figure size 800x500 with 1 Axes>"
            ],
            "image/png": "[encoded data removed]"
          },
          "metadata": {}
        }
      ]
    },
    {
      "cell_type": "markdown",
      "source": [
        "Prompt: Create a tuple with your birthday date elements (day, month, year) and write a simple function to check if today matches your birthday."
      ],
      "metadata": {
        "id": "Zgw3IMkylAqn"
      }
    },
    {
      "cell_type": "code",
      "metadata": {
        "colab": {
          "base_uri": "https://localhost:8080/"
        },
        "id": "bf27f6c8",
        "outputId": "5736a5cc-38db-492a-b1e4-fa47e8af0e5b"
      },
      "source": [
        "import datetime\n",
        "\n",
        "# Create a tuple with your birthday (day, month, year)\n",
        "# Replace the placeholder values with your actual birthday\n",
        "my_birthday = (25, 12, 1990)  # Example: December 25, 1990\n",
        "\n",
        "def is_today_my_birthday(birthday_tuple):\n",
        "  \"\"\"Checks if today's date matches the given birthday tuple (day, month).\"\"\"\n",
        "  today = datetime.date.today()\n",
        "  # We only compare month and day to check if it's a birthday\n",
        "  return today.month == birthday_tuple[1] and today.day == birthday_tuple[0]\n",
        "\n",
        "# Check if today is your birthday and print a message\n",
        "if is_today_my_birthday(my_birthday):\n",
        "  print(\"Happy Birthday!\")\n",
        "else:\n",
        "  print(\"Today is not your birthday.\")"
      ],
      "execution_count": 5,
      "outputs": [
        {
          "output_type": "stream",
          "name": "stdout",
          "text": [
            "Today is not your birthday.\n"
          ]
        }
      ]
    },
    {
      "cell_type": "markdown",
      "source": [
        "Prompt: Use two tuples to store coordinates of two points and calculate the distance between them using basic math operations."
      ],
      "metadata": {
        "id": "I6gaEpullR5K"
      }
    },
    {
      "cell_type": "code",
      "metadata": {
        "colab": {
          "base_uri": "https://localhost:8080/"
        },
        "id": "4135f6f7",
        "outputId": "2aa79dbd-d8fd-42c1-e723-21de6d3e71c6"
      },
      "source": [
        "import math\n",
        "\n",
        "# Define the coordinates of two points as tuples\n",
        "point1 = (2, 3)\n",
        "point2 = (8, 7)\n",
        "\n",
        "# Calculate the difference in x and y coordinates\n",
        "delta_x = point2[0] - point1[0]\n",
        "delta_y = point2[1] - point1[1]\n",
        "\n",
        "# Calculate the distance using the distance formula (square root of the sum of the squares of the differences)\n",
        "distance = math.sqrt(delta_x**2 + delta_y**2)\n",
        "\n",
        "# Print the calculated distance\n",
        "print(f\"The coordinates of the first point are: {point1}\")\n",
        "print(f\"The coordinates of the second point are: {point2}\")\n",
        "print(f\"The distance between the two points is: {distance}\")"
      ],
      "execution_count": 6,
      "outputs": [
        {
          "output_type": "stream",
          "name": "stdout",
          "text": [
            "The coordinates of the first point are: (2, 3)\n",
            "The coordinates of the second point are: (8, 7)\n",
            "The distance between the two points is: 7.211102550927978\n"
          ]
        }
      ]
    },
    {
      "cell_type": "markdown",
      "source": [
        "Prompt: Create a list of your favorite fruits, then write code to add a new fruit, remove one, and print the updated list with a fun message."
      ],
      "metadata": {
        "id": "D7UJ66KHldzJ"
      }
    },
    {
      "cell_type": "code",
      "metadata": {
        "colab": {
          "base_uri": "https://localhost:8080/"
        },
        "id": "b7ac201f",
        "outputId": "9354072b-2a5f-481b-d3cf-a9b19f246e81"
      },
      "source": [
        "# Create a list of favorite fruits\n",
        "favorite_fruits = [\"apple\", \"banana\", \"orange\", \"grape\"]\n",
        "\n",
        "print(f\"My initial list of favorite fruits: {favorite_fruits}\")\n",
        "\n",
        "# Add a new fruit\n",
        "favorite_fruits.append(\"strawberry\")\n",
        "print(f\"After adding a fruit: {favorite_fruits}\")\n",
        "\n",
        "# Remove a fruit (e.g., \"orange\")\n",
        "# You can also use .pop() with an index\n",
        "if \"orange\" in favorite_fruits:\n",
        "    favorite_fruits.remove(\"orange\")\n",
        "    print(f\"After removing a fruit: {favorite_fruits}\")\n",
        "else:\n",
        "    print(\"Orange was not in the list to remove.\")\n",
        "\n",
        "# Print the updated list with a fun message\n",
        "print(f\"My updated list of favorite fruits is ready to enjoy: {favorite_fruits}!\")"
      ],
      "execution_count": 7,
      "outputs": [
        {
          "output_type": "stream",
          "name": "stdout",
          "text": [
            "My initial list of favorite fruits: ['apple', 'banana', 'orange', 'grape']\n",
            "After adding a fruit: ['apple', 'banana', 'orange', 'grape', 'strawberry']\n",
            "After removing a fruit: ['apple', 'banana', 'grape', 'strawberry']\n",
            "My updated list of favorite fruits is ready to enjoy: ['apple', 'banana', 'grape', 'strawberry']!\n"
          ]
        }
      ]
    },
    {
      "cell_type": "markdown",
      "source": [
        "Prompt: Write Python code to find the common elements between two tuples."
      ],
      "metadata": {
        "id": "KbAlkwhuln0h"
      }
    },
    {
      "cell_type": "code",
      "metadata": {
        "colab": {
          "base_uri": "https://localhost:8080/"
        },
        "id": "bb5394aa",
        "outputId": "3ca38a6f-09fe-47d8-c1c5-f1023833dcb5"
      },
      "source": [
        "# Define two sample tuples\n",
        "tuple1 = (1, 2, 3, 4, 5)\n",
        "tuple2 = (4, 5, 6, 7, 8)\n",
        "\n",
        "# Find common elements by converting to sets and finding the intersection\n",
        "common_elements = tuple(set(tuple1) & set(tuple2))\n",
        "\n",
        "# Print the common elements\n",
        "print(f\"Tuple 1: {tuple1}\")\n",
        "print(f\"Tuple 2: {tuple2}\")\n",
        "print(f\"Common elements: {common_elements}\")"
      ],
      "execution_count": 8,
      "outputs": [
        {
          "output_type": "stream",
          "name": "stdout",
          "text": [
            "Tuple 1: (1, 2, 3, 4, 5)\n",
            "Tuple 2: (4, 5, 6, 7, 8)\n",
            "Common elements: (4, 5)\n"
          ]
        }
      ]
    },
    {
      "cell_type": "markdown",
      "source": [
        "Prompt: Create a random joke generator that selects a joke from a predefined list using random.choice"
      ],
      "metadata": {
        "id": "Sq08aksbl7wn"
      }
    },
    {
      "cell_type": "code",
      "metadata": {
        "colab": {
          "base_uri": "https://localhost:8080/"
        },
        "id": "7ff05a1e",
        "outputId": "3eb53b8a-e665-458b-e51f-8e5bad75f623"
      },
      "source": [
        "import random\n",
        "\n",
        "# Define a list of jokes\n",
        "jokes = [\n",
        "    \"Why don't scientists trust atoms? Because they make up everything!\",\n",
        "    \"What do you call a fish with no eyes? Fsh!\",\n",
        "    \"Why did the scarecrow win an award? Because he was outstanding in his field!\",\n",
        "    \"How does a penguin build its house? Igloos it together!\",\n",
        "    \"What do you call a bicycle for two? A tandem!\",\n",
        "]\n",
        "\n",
        "# Select a random joke from the list\n",
        "random_joke = random.choice(jokes)\n",
        "\n",
        "# Print the joke\n",
        "print(random_joke)"
      ],
      "execution_count": 9,
      "outputs": [
        {
          "output_type": "stream",
          "name": "stdout",
          "text": [
            "What do you call a bicycle for two? A tandem!\n"
          ]
        }
      ]
    },
    {
      "cell_type": "markdown",
      "source": [
        "Prompt: Plot a scatter plot using matplotlib with random x and y coordinates stored in lists."
      ],
      "metadata": {
        "id": "bI14qtgTmCh_"
      }
    },
    {
      "cell_type": "code",
      "metadata": {
        "colab": {
          "base_uri": "https://localhost:8080/",
          "height": 564
        },
        "id": "ce4cbe0d",
        "outputId": "682bd710-3e4a-4bf0-b1f3-b06c80f2bf94"
      },
      "source": [
        "import matplotlib.pyplot as plt\n",
        "import random\n",
        "\n",
        "# Generate random x and y coordinates\n",
        "num_points = 50 # Number of points to plot\n",
        "x_coords = [random.randint(0, 100) for _ in range(num_points)]\n",
        "y_coords = [random.randint(0, 100) for _ in range(num_points)]\n",
        "\n",
        "# Create the scatter plot\n",
        "plt.figure(figsize=(8, 6)) # Adjust figure size\n",
        "plt.scatter(x_coords, y_coords, color='blue', marker='o') # Use blue circles as markers\n",
        "\n",
        "# Add labels and title\n",
        "plt.xlabel(\"X-coordinate\")\n",
        "plt.ylabel(\"Y-coordinate\")\n",
        "plt.title(\"Random Scatter Plot\")\n",
        "\n",
        "# Add a grid for better readability\n",
        "plt.grid(True)\n",
        "\n",
        "# Display the plot\n",
        "plt.show()"
      ],
      "execution_count": 10,
      "outputs": [
        {
          "output_type": "display_data",
          "data": {
            "text/plain": [
              "<Figure size 800x600 with 1 Axes>"
            ],
            "image/png": "[encoded data removed]"
          },
          "metadata": {}
        }
      ]
    },
    {
      "cell_type": "markdown",
      "source": [
        "Prompt: Use the csv module to read a CSV file and print the contents row-wise."
      ],
      "metadata": {
        "id": "Vk1DGF0FmY3o"
      }
    },
    {
      "cell_type": "code",
      "metadata": {
        "colab": {
          "base_uri": "https://localhost:8080/"
        },
        "id": "6f620910",
        "outputId": "49de4cf5-142d-4b09-8ab9-60b56c8b3ea8"
      },
      "source": [
        "import csv\n",
        "\n",
        "# Replace 'your_file.csv' with the path to your CSV file\n",
        "csv_file_path = 'your_file.csv'\n",
        "\n",
        "try:\n",
        "    with open(csv_file_path, 'r', newline='') as csvfile:\n",
        "        csv_reader = csv.reader(csvfile)\n",
        "        print(f\"Contents of {csv_file_path}:\")\n",
        "        for row in csv_reader:\n",
        "            print(row)\n",
        "except FileNotFoundError:\n",
        "    print(f\"Error: The file '{csv_file_path}' was not found.\")\n",
        "except Exception as e:\n",
        "    print(f\"An error occurred: {e}\")"
      ],
      "execution_count": 11,
      "outputs": [
        {
          "output_type": "stream",
          "name": "stdout",
          "text": [
            "Error: The file 'your_file.csv' was not found.\n"
          ]
        }
      ]
    },
    {
      "cell_type": "markdown",
      "source": [
        "Prompt: Use a list to track daily temperatures and find the average temperature over a week."
      ],
      "metadata": {
        "id": "5KfyQp-Pmj28"
      }
    },
    {
      "cell_type": "code",
      "metadata": {
        "colab": {
          "base_uri": "https://localhost:8080/"
        },
        "id": "799cc2b1",
        "outputId": "9d25b939-bb4c-4837-cf1e-5daa2d1a298f"
      },
      "source": [
        "# Create a list to store daily temperatures for a week (example data in Celsius)\n",
        "daily_temperatures = [20, 22, 19, 23, 21, 24, 20]\n",
        "\n",
        "# Calculate the sum of the temperatures\n",
        "total_temperature = sum(daily_temperatures)\n",
        "\n",
        "# Calculate the number of days\n",
        "number_of_days = len(daily_temperatures)\n",
        "\n",
        "# Calculate the average temperature\n",
        "# Avoid division by zero if the list is empty\n",
        "average_temperature = total_temperature / number_of_days if number_of_days > 0 else 0\n",
        "\n",
        "# Print the daily temperatures and the average temperature\n",
        "print(f\"Daily temperatures for the week: {daily_temperatures}\")\n",
        "print(f\"The average temperature for the week is: {average_temperature:.2f}°C\")"
      ],
      "execution_count": 12,
      "outputs": [
        {
          "output_type": "stream",
          "name": "stdout",
          "text": [
            "Daily temperatures for the week: [20, 22, 19, 23, 21, 24, 20]\n",
            "The average temperature for the week is: 21.29°C\n"
          ]
        }
      ]
    },
    {
      "cell_type": "markdown",
      "source": [
        "Prompt: Create a tuple of five random integers and find the minimum and maximum values."
      ],
      "metadata": {
        "id": "ovegmXbDmsxW"
      }
    },
    {
      "cell_type": "code",
      "metadata": {
        "colab": {
          "base_uri": "https://localhost:8080/"
        },
        "id": "cca48289",
        "outputId": "fcbbcd51-1519-43af-d137-ecc8b0dbbe39"
      },
      "source": [
        "import random\n",
        "\n",
        "# Create a tuple of five random integers\n",
        "random_integers = tuple(random.randint(1, 100) for _ in range(5))\n",
        "\n",
        "# Find the minimum and maximum values\n",
        "minimum_value = min(random_integers)\n",
        "maximum_value = max(random_integers)\n",
        "\n",
        "# Print the tuple and the min/max values\n",
        "print(f\"The tuple of random integers is: {random_integers}\")\n",
        "print(f\"The minimum value in the tuple is: {minimum_value}\")\n",
        "print(f\"The maximum value in the tuple is: {maximum_value}\")"
      ],
      "execution_count": 13,
      "outputs": [
        {
          "output_type": "stream",
          "name": "stdout",
          "text": [
            "The tuple of random integers is: (19, 11, 53, 45, 70)\n",
            "The minimum value in the tuple is: 11\n",
            "The maximum value in the tuple is: 70\n"
          ]
        }
      ]
    },
    {
      "cell_type": "code",
      "execution_count": null,
      "metadata": {
        "id": "sc_7KdkJkLI_"
      },
      "outputs": [],
      "source": []
    }
  ]
}